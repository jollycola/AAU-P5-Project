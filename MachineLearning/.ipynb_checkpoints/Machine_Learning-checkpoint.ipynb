{
 "cells": [
  {
   "cell_type": "markdown",
   "metadata": {
    "colab_type": "text",
    "id": "5WcJbAA8efTQ"
   },
   "source": [
    "# Variables\n"
   ]
  },
  {
   "cell_type": "code",
   "execution_count": 5,
   "metadata": {
    "colab": {},
    "colab_type": "code",
    "id": "9LTSCckzejIF"
   },
   "outputs": [],
   "source": [
    "EPOCHS = 2000"
   ]
  },
  {
   "cell_type": "markdown",
   "metadata": {
    "colab_type": "text",
    "id": "9zxnSdzLeG84"
   },
   "source": [
    "# Preliminary"
   ]
  },
  {
   "cell_type": "code",
   "execution_count": null,
   "metadata": {
    "cellView": "code",
    "colab": {
     "base_uri": "https://localhost:8080/",
     "height": 34
    },
    "colab_type": "code",
    "id": "7FhykHqCdzGB",
    "outputId": "f3aa8e57-e076-4953-d78d-139a733113d8"
   },
   "outputs": [],
   "source": [
    "#@title Default title text\n",
    "# Use seaborn for pairplot\n",
    "!pip install -q seaborn\n",
    "!pip install sklearn\n",
    "\n",
    "# Use some functions from tensorflow_docs\n",
    "!pip install -q git+https://github.com/tensorflow/docs"
   ]
  },
  {
   "cell_type": "code",
   "execution_count": 1,
   "metadata": {
    "colab": {
     "base_uri": "https://localhost:8080/",
     "height": 97
    },
    "colab_type": "code",
    "id": "uNYCfyqDdsKn",
    "outputId": "1abe774c-73a3-4db1-d2e3-234a2e7c8986"
   },
   "outputs": [
    {
     "name": "stdout",
     "output_type": "stream",
     "text": [
      "2.0.0\n"
     ]
    }
   ],
   "source": [
    "from __future__ import absolute_import, division, print_function, unicode_literals\n",
    "\n",
    "import numpy as np\n",
    "import pandas as pd\n",
    "import seaborn as sns\n",
    "import matplotlib.pyplot as plt\n",
    "from mpl_toolkits.mplot3d import Axes3D\n",
    "\n",
    "from sklearn import metrics\n",
    "import tensorflow as tf\n",
    "\n",
    "from tensorflow import keras\n",
    "from tensorflow.keras import layers, losses\n",
    "\n",
    "import tensorflow_docs as tfdocs\n",
    "import tensorflow_docs.plots\n",
    "import tensorflow_docs.modeling\n",
    "\n",
    "import datetime\n",
    "\n",
    "print(tf.__version__)"
   ]
  },
  {
   "cell_type": "code",
   "execution_count": null,
   "metadata": {},
   "outputs": [],
   "source": [
    "%load_ext tensorboard"
   ]
  },
  {
   "cell_type": "markdown",
   "metadata": {
    "colab_type": "text",
    "id": "M_3D_rFfe5fV"
   },
   "source": [
    "# Setup Data"
   ]
  },
  {
   "cell_type": "code",
   "execution_count": 3,
   "metadata": {
    "colab": {
     "base_uri": "https://localhost:8080/",
     "height": 71
    },
    "colab_type": "code",
    "id": "wgbPm0f-_jO1",
    "outputId": "7888dc14-1db1-4851-d597-30e03c044f82"
   },
   "outputs": [],
   "source": [
    "# @title Download Data from Gist\n",
    "dataset_path = keras.utils.get_file(\"dataset.csv\", \"https://gist.githubusercontent.com/jollycola/c290ac9c1e08beb5e98cdff1b07502e0/raw/94223d677075e70d9ce6bb9860416f048a546916/minigolf-dataset.csv\")\n",
    "raw_dataset = pd.read_csv(dataset_path, header=0, sep=\";\")\n",
    "dataset = raw_dataset.copy()"
   ]
  },
  {
   "cell_type": "code",
   "execution_count": 4,
   "metadata": {
    "colab": {},
    "colab_type": "code",
    "id": "jlayFNv4e-HA"
   },
   "outputs": [],
   "source": [
    "# dataset = pd.read_excel('training-set.xlsx')\n",
    "\n",
    "# Get the training sets\n",
    "train_dataset = dataset.sample(frac=0.8, random_state=0)\n",
    "test_dataset = dataset.drop(train_dataset.index)\n",
    "\n",
    "# Create stats\n",
    "train_stats = train_dataset.describe()\n",
    "train_stats.pop(\"POWER\")\n",
    "train_stats = train_stats.transpose()\n",
    "\n",
    "# Get the target sets (Power)\n",
    "train_targets = train_dataset[[\"POWER\", \"SWING\"]]\n",
    "train_targets_pow = train_dataset.pop(\"POWER\")\n",
    "train_targets_swing = train_dataset.pop(\"SWING\")\n",
    "\n",
    "test_targets = test_dataset[[\"POWER\", \"SWING\"]]\n",
    "test_targets_pow = test_dataset.pop(\"POWER\")\n",
    "test_targets_swing = test_dataset.pop(\"SWING\")\n",
    "\n"
   ]
  },
  {
   "cell_type": "markdown",
   "metadata": {
    "colab_type": "text",
    "id": "OX_E5Fd5eMMA"
   },
   "source": [
    "# Build Model Function"
   ]
  },
  {
   "cell_type": "code",
   "execution_count": 51,
   "metadata": {
    "colab": {},
    "colab_type": "code",
    "id": "vlOdPRsTd9o4"
   },
   "outputs": [],
   "source": [
    "def build_model_old():\n",
    "    model = keras.Sequential([\n",
    "        layers.Dense(16, activation='relu', input_shape=[len(train_dataset.keys())]),\n",
    "        layers.Dense(2)\n",
    "    ])\n",
    "\n",
    "    model.compile(loss='mae',\n",
    "                optimizer='Adam', \n",
    "                  metrics=['mse'])\n",
    "\n",
    "    return model"
   ]
  },
  {
   "cell_type": "markdown",
   "metadata": {
    "colab_type": "text",
    "id": "QvIwkMdJro4Y"
   },
   "source": [
    "# ModelBuilder\n",
    "\n",
    "\n"
   ]
  },
  {
   "cell_type": "code",
   "execution_count": 5,
   "metadata": {
    "colab": {},
    "colab_type": "code",
    "id": "h3JAfBIYs6zK"
   },
   "outputs": [],
   "source": [
    "def build_model(nodes, activation_func):\n",
    "    model = keras.Sequential([\n",
    "        layers.Dense(nodes, activation=activation_func, input_shape=[len(train_dataset.keys())]),\n",
    "        layers.Dense(2)\n",
    "    ])\n",
    "\n",
    "    model.compile(loss='mse', optimizer='Adam', metrics=['mse'])\n",
    "\n",
    "    return model"
   ]
  },
  {
   "cell_type": "markdown",
   "metadata": {
    "colab_type": "text",
    "id": "7yhkeD9KeUGX"
   },
   "source": [
    "# Train Model"
   ]
  },
  {
   "cell_type": "code",
   "execution_count": 75,
   "metadata": {},
   "outputs": [],
   "source": [
    "def loss_function(true, predicted):\n",
    "    MAE = metrics.mean_absolute_error(true[['POWER']].values, predicted[:,0])\n",
    "    return MAE"
   ]
  },
  {
   "cell_type": "code",
   "execution_count": 76,
   "metadata": {
    "colab": {},
    "colab_type": "code",
    "id": "o9cs8coaeB-d"
   },
   "outputs": [],
   "source": [
    "def train_model(nodes, activation, epochs=EPOCHS, print_progress=False):\n",
    "    model = build_model(nodes, activation)\n",
    "        \n",
    "    _callbacks = [tfdocs.modeling.EpochDots()] if print_progress else []\n",
    "\n",
    "    history = model.fit(\n",
    "      train_dataset, train_targets,\n",
    "      epochs=epochs, validation_split=0.2, verbose=0,\n",
    "      callbacks=_callbacks\n",
    "    )\n",
    "    \n",
    "    test_predictions = model.predict(dataset['DIST'])\n",
    "        \n",
    "    print(\"Loss: %s\" % loss_function(dataset, test_predictions))\n",
    "    \n",
    "    return model"
   ]
  },
  {
   "cell_type": "markdown",
   "metadata": {
    "colab_type": "text",
    "id": "psn61YQUgc1l"
   },
   "source": [
    "## Use Model"
   ]
  },
  {
   "cell_type": "code",
   "execution_count": null,
   "metadata": {},
   "outputs": [],
   "source": [
    "_nodes = 64\n",
    "_epochs = 1000\n",
    "\n",
    "_model = train_model(_nodes, 'elu', epochs=_epochs, print_progress=True)\n",
    "print(\"\\n\\n\")\n",
    "print(\"elu - nodes: %i - epochs: %i\" % (_nodes, _epochs))\n",
    "draw_graph(_model)"
   ]
  },
  {
   "cell_type": "code",
   "execution_count": null,
   "metadata": {},
   "outputs": [],
   "source": [
    "draw_graph(_model)"
   ]
  },
  {
   "cell_type": "code",
   "execution_count": 128,
   "metadata": {},
   "outputs": [
    {
     "name": "stdout",
     "output_type": "stream",
     "text": [
      "INFO:tensorflow:Assets written to: elu_64_1500.model\\assets\n"
     ]
    }
   ],
   "source": [
    "_model.save(\"elu_64_1500.model\", save_format='tf')"
   ]
  },
  {
   "cell_type": "code",
   "execution_count": null,
   "metadata": {
    "colab": {
     "base_uri": "https://localhost:8080/",
     "height": 34
    },
    "colab_type": "code",
    "id": "SbdiQ1ybdQZP",
    "outputId": "25a3b4f6-0dad-4be2-cff9-0f13a6d08d1f"
   },
   "outputs": [],
   "source": [
    "nodes_number = 64\n",
    "\n",
    "model_elu = train_model(nodes_number, 'elu')\n",
    "model_softplus = train_model(nodes_number, 'softplus')\n",
    "model_sigmoid = train_model(nodes_number, 'sigmoid')\n",
    "model_linear = train_model(nodes_number, 'linear')\n",
    "model_selu = train_model(nodes_number, 'selu')\n",
    "model_relu = train_model(nodes_number, 'relu')"
   ]
  },
  {
   "cell_type": "code",
   "execution_count": 133,
   "metadata": {
    "colab": {
     "base_uri": "https://localhost:8080/",
     "height": 102
    },
    "colab_type": "code",
    "id": "Q7WaAT84gbf6",
    "outputId": "9506bf9b-2f26-46d8-89f0-e3cba01ec537"
   },
   "outputs": [
    {
     "name": "stdout",
     "output_type": "stream",
     "text": [
      "[[2.3955852e-03 1.9006126e+01]]\n",
      "[[ 0.10288835 50.380806  ]]\n",
      "[[ 0.13737598 58.441055  ]]\n",
      "[[ 0.1817894 59.253765 ]]\n",
      "[[ 0.19098413 59.36007   ]]\n",
      "[[ 0.24390194 59.95714   ]]\n",
      "[[ 0.27562752 60.291843  ]]\n"
     ]
    }
   ],
   "source": [
    "model = _model\n",
    "\n",
    "print(model.predict([10]))\n",
    "print(model.predict([25]))\n",
    "print(model.predict([50]))\n",
    "print(model.predict([89]))\n",
    "print(model.predict([100]))\n",
    "print(model.predict([164]))\n",
    "print(model.predict([200]))"
   ]
  },
  {
   "cell_type": "markdown",
   "metadata": {
    "colab_type": "text",
    "id": "ePT6y_-piBv8"
   },
   "source": [
    "## Draw Diagram"
   ]
  },
  {
   "cell_type": "code",
   "execution_count": 13,
   "metadata": {
    "colab": {},
    "colab_type": "code",
    "id": "mENu7rD23ise"
   },
   "outputs": [],
   "source": [
    "# @title Draw Graph Function\n",
    "def draw_graph(model):  \n",
    "    test_predictions = model.predict(dataset['DIST'])\n",
    "    MSE = np.square(np.subtract(dataset[['POWER']].values, test_predictions[:,0])).mean() \n",
    "    MAE = loss_function(dataset, test_predictions)\n",
    "    \n",
    "    plt.plot(dataset[['DIST']].values, dataset[['POWER']].values, 'g.')\n",
    "    plt.xlabel('Distance')\n",
    "    plt.ylabel('Power')\n",
    "    plt.xlim([0, 250])\n",
    "    plt.ylim([0, 0.5])\n",
    "    plt.text(25, 0.35, 'MSE: %0.6f' % MSE)\n",
    "    plt.text(25, 0.4, 'MAE: %0.6f' % MAE)\n",
    "\n",
    "    _ = plt.plot(dataset[['DIST']].values, test_predictions[:,0], linewidth=2)\n",
    "\n",
    "    \n",
    "    # plt.figtext(25, 0.40, \"MSE: %s\" % MSE)\n",
    "\n",
    "    plt.show()"
   ]
  },
  {
   "cell_type": "code",
   "execution_count": 14,
   "metadata": {
    "colab": {
     "base_uri": "https://localhost:8080/",
     "height": 1000
    },
    "colab_type": "code",
    "id": "nn8z8I0D35Nl",
    "outputId": "336e67ee-154e-4ffc-89e8-f1446357ebb0"
   },
   "outputs": [
    {
     "name": "stdout",
     "output_type": "stream",
     "text": [
      "Printing graph for: elu\n"
     ]
    },
    {
     "ename": "NameError",
     "evalue": "name 'model_elu' is not defined",
     "output_type": "error",
     "traceback": [
      "\u001b[1;31m---------------------------------------------------------------------------\u001b[0m",
      "\u001b[1;31mNameError\u001b[0m                                 Traceback (most recent call last)",
      "\u001b[1;32m<ipython-input-14-e696954fde73>\u001b[0m in \u001b[0;36m<module>\u001b[1;34m\u001b[0m\n\u001b[0;32m      1\u001b[0m \u001b[0mprint\u001b[0m\u001b[1;33m(\u001b[0m\u001b[1;34m\"Printing graph for: %s\"\u001b[0m \u001b[1;33m%\u001b[0m \u001b[1;34m\"elu\"\u001b[0m\u001b[1;33m)\u001b[0m\u001b[1;33m\u001b[0m\u001b[0m\n\u001b[1;32m----> 2\u001b[1;33m \u001b[0mdraw_graph\u001b[0m\u001b[1;33m(\u001b[0m\u001b[0mmodel_elu\u001b[0m\u001b[1;33m)\u001b[0m\u001b[1;33m\u001b[0m\u001b[0m\n\u001b[0m\u001b[0;32m      3\u001b[0m \u001b[0mprint\u001b[0m\u001b[1;33m(\u001b[0m\u001b[1;34m\"Printing graph for: %s\"\u001b[0m \u001b[1;33m%\u001b[0m \u001b[1;34m\"softplus\"\u001b[0m\u001b[1;33m)\u001b[0m\u001b[1;33m\u001b[0m\u001b[0m\n\u001b[0;32m      4\u001b[0m \u001b[0mdraw_graph\u001b[0m\u001b[1;33m(\u001b[0m\u001b[0mmodel_softplus\u001b[0m\u001b[1;33m)\u001b[0m\u001b[1;33m\u001b[0m\u001b[0m\n\u001b[0;32m      5\u001b[0m \u001b[0mprint\u001b[0m\u001b[1;33m(\u001b[0m\u001b[1;34m\"Printing graph for: %s\"\u001b[0m \u001b[1;33m%\u001b[0m \u001b[1;34m\"sigmoid\"\u001b[0m\u001b[1;33m)\u001b[0m\u001b[1;33m\u001b[0m\u001b[0m\n",
      "\u001b[1;31mNameError\u001b[0m: name 'model_elu' is not defined"
     ]
    }
   ],
   "source": [
    "print(\"Printing graph for: %s\" % \"elu\")\n",
    "draw_graph(model_elu)\n",
    "print(\"Printing graph for: %s\" % \"softplus\")\n",
    "draw_graph(model_softplus)\n",
    "print(\"Printing graph for: %s\" % \"sigmoid\")\n",
    "draw_graph(model_sigmoid)\n",
    "print(\"Printing graph for: %s\" % \"linear\")\n",
    "draw_graph(model_linear)\n",
    "print(\"Printing graph for: %s\" % \"selu\")\n",
    "draw_graph(model_selu)\n",
    "print(\"Printing graph for: %s\" % \"relu\")\n",
    "draw_graph(model_relu)\n"
   ]
  },
  {
   "cell_type": "code",
   "execution_count": 64,
   "metadata": {
    "colab": {
     "base_uri": "https://localhost:8080/",
     "height": 480
    },
    "colab_type": "code",
    "id": "zqUzxhU2poeu",
    "outputId": "9f07aa1d-2a54-4f05-f50e-1a07c5d22323"
   },
   "outputs": [
    {
     "name": "stdout",
     "output_type": "stream",
     "text": [
      "WARNING:tensorflow:Falling back from v2 loop because of error: Failed to find data adapter that can handle input: <class 'pandas.core.series.Series'>, <class 'NoneType'>\n"
     ]
    },
    {
     "data": {
      "image/png": "[encoded data removed]",
      "text/plain": [
       "<Figure size 432x288 with 1 Axes>"
      ]
     },
     "metadata": {
      "needs_background": "light"
     },
     "output_type": "display_data"
    }
   ],
   "source": [
    "# 3D Graph\n",
    "test_predictions = _model.predict(dataset['DIST'])\n",
    "\n",
    "fig = plt.figure()\n",
    "ax = fig.add_subplot(111, projection='3d')\n",
    "\n",
    "ax.scatter3D(xs=dataset[['DIST']], ys=dataset[['POWER']],zs=dataset[['SWING']])\n",
    "ax.plot(xs=dataset[['DIST']].values, ys=test_predictions[:,0],zs=test_predictions[:,1])\n",
    "# Set Labels\n",
    "ax.set_xlabel(\"Dist\")\n",
    "ax.set_ylabel(\"Power\")\n",
    "ax.set_zlabel(\"Swing\")\n",
    "\n",
    "plt.show()"
   ]
  },
  {
   "cell_type": "markdown",
   "metadata": {
    "colab_type": "text",
    "id": "fUVGW7JfZnL8"
   },
   "source": [
    "# Save Model"
   ]
  },
  {
   "cell_type": "code",
   "execution_count": null,
   "metadata": {
    "colab": {},
    "colab_type": "code",
    "id": "veyA4UYPZyJO"
   },
   "outputs": [],
   "source": [
    "# Export the model to a SavedModel\n",
    "model.save('minigolf.model', save_format='tf')\n",
    "\n",
    "# # Recreate the exact same model\n",
    "# new_model = keras.models.load_model('path_to_saved_model')\n",
    "\n",
    "# # Check that the state is preserved\n",
    "# new_predictions = new_model.predict(x_test)\n",
    "# np.testing.assert_allclose(predictions, new_predictions, rtol=1e-6, atol=1e-6)"
   ]
  }
 ],
 "metadata": {
  "colab": {
   "collapsed_sections": [],
   "name": "Machine Learning",
   "provenance": [],
   "toc_visible": true
  },
  "kernelspec": {
   "display_name": "Python 3",
   "language": "python",
   "name": "python3"
  },
  "language_info": {
   "codemirror_mode": {
    "name": "ipython",
    "version": 3
   },
   "file_extension": ".py",
   "mimetype": "text/x-python",
   "name": "python",
   "nbconvert_exporter": "python",
   "pygments_lexer": "ipython3",
   "version": "3.7.0"
  }
 },
 "nbformat": 4,
 "nbformat_minor": 4
}
